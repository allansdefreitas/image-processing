{
 "cells": [
  {
   "cell_type": "code",
   "execution_count": 1,
   "metadata": {},
   "outputs": [],
   "source": [
    "#extracted from \n",
    "#https://stackoverflow.com/questions/10572274/halftone-images-in-python"
   ]
  },
  {
   "cell_type": "code",
   "execution_count": 9,
   "metadata": {},
   "outputs": [
    {
     "ename": "NameError",
     "evalue": "name 'xrange' is not defined",
     "output_type": "error",
     "traceback": [
      "\u001b[0;31m---------------------------------------------------------------------------\u001b[0m",
      "\u001b[0;31mNameError\u001b[0m                                 Traceback (most recent call last)",
      "\u001b[0;32m<ipython-input-9-28cf1118f27b>\u001b[0m in \u001b[0;36m<module>\u001b[0;34m\u001b[0m\n\u001b[1;32m     56\u001b[0m \u001b[0;34m\u001b[0m\u001b[0m\n\u001b[1;32m     57\u001b[0m \u001b[0mcmyk\u001b[0m \u001b[0;34m=\u001b[0m \u001b[0mgcr\u001b[0m\u001b[0;34m(\u001b[0m\u001b[0mim\u001b[0m\u001b[0;34m,\u001b[0m \u001b[0;36m0\u001b[0m\u001b[0;34m)\u001b[0m\u001b[0;34m\u001b[0m\u001b[0;34m\u001b[0m\u001b[0m\n\u001b[0;32m---> 58\u001b[0;31m \u001b[0mdots\u001b[0m \u001b[0;34m=\u001b[0m \u001b[0mhalftone\u001b[0m\u001b[0;34m(\u001b[0m\u001b[0mim\u001b[0m\u001b[0;34m,\u001b[0m \u001b[0mcmyk\u001b[0m\u001b[0;34m,\u001b[0m \u001b[0;36m10\u001b[0m\u001b[0;34m,\u001b[0m \u001b[0;36m1\u001b[0m\u001b[0;34m)\u001b[0m\u001b[0;34m\u001b[0m\u001b[0;34m\u001b[0m\u001b[0m\n\u001b[0m\u001b[1;32m     59\u001b[0m \u001b[0mim\u001b[0m\u001b[0;34m.\u001b[0m\u001b[0mshow\u001b[0m\u001b[0;34m(\u001b[0m\u001b[0;34m)\u001b[0m\u001b[0;34m\u001b[0m\u001b[0;34m\u001b[0m\u001b[0m\n\u001b[1;32m     60\u001b[0m \u001b[0mnew\u001b[0m \u001b[0;34m=\u001b[0m \u001b[0mImage\u001b[0m\u001b[0;34m.\u001b[0m\u001b[0mmerge\u001b[0m\u001b[0;34m(\u001b[0m\u001b[0;34m'CMYK'\u001b[0m\u001b[0;34m,\u001b[0m \u001b[0mdots\u001b[0m\u001b[0;34m)\u001b[0m\u001b[0;34m\u001b[0m\u001b[0;34m\u001b[0m\u001b[0m\n",
      "\u001b[0;32m<ipython-input-9-28cf1118f27b>\u001b[0m in \u001b[0;36mhalftone\u001b[0;34m(im, cmyk, sample, scale)\u001b[0m\n\u001b[1;32m     35\u001b[0m         \u001b[0mhalf_tone\u001b[0m \u001b[0;34m=\u001b[0m \u001b[0mImage\u001b[0m\u001b[0;34m.\u001b[0m\u001b[0mnew\u001b[0m\u001b[0;34m(\u001b[0m\u001b[0;34m'L'\u001b[0m\u001b[0;34m,\u001b[0m \u001b[0msize\u001b[0m\u001b[0;34m)\u001b[0m\u001b[0;34m\u001b[0m\u001b[0;34m\u001b[0m\u001b[0m\n\u001b[1;32m     36\u001b[0m         \u001b[0mdraw\u001b[0m \u001b[0;34m=\u001b[0m \u001b[0mImageDraw\u001b[0m\u001b[0;34m.\u001b[0m\u001b[0mDraw\u001b[0m\u001b[0;34m(\u001b[0m\u001b[0mhalf_tone\u001b[0m\u001b[0;34m)\u001b[0m\u001b[0;34m\u001b[0m\u001b[0;34m\u001b[0m\u001b[0m\n\u001b[0;32m---> 37\u001b[0;31m         \u001b[0;32mfor\u001b[0m \u001b[0mx\u001b[0m \u001b[0;32min\u001b[0m \u001b[0mxrange\u001b[0m\u001b[0;34m(\u001b[0m\u001b[0;36m0\u001b[0m\u001b[0;34m,\u001b[0m \u001b[0mchannel\u001b[0m\u001b[0;34m.\u001b[0m\u001b[0msize\u001b[0m\u001b[0;34m[\u001b[0m\u001b[0;36m0\u001b[0m\u001b[0;34m]\u001b[0m\u001b[0;34m,\u001b[0m \u001b[0msample\u001b[0m\u001b[0;34m)\u001b[0m\u001b[0;34m:\u001b[0m\u001b[0;34m\u001b[0m\u001b[0;34m\u001b[0m\u001b[0m\n\u001b[0m\u001b[1;32m     38\u001b[0m             \u001b[0;32mfor\u001b[0m \u001b[0my\u001b[0m \u001b[0;32min\u001b[0m \u001b[0mxrange\u001b[0m\u001b[0;34m(\u001b[0m\u001b[0;36m0\u001b[0m\u001b[0;34m,\u001b[0m \u001b[0mchannel\u001b[0m\u001b[0;34m.\u001b[0m\u001b[0msize\u001b[0m\u001b[0;34m[\u001b[0m\u001b[0;36m1\u001b[0m\u001b[0;34m]\u001b[0m\u001b[0;34m,\u001b[0m \u001b[0msample\u001b[0m\u001b[0;34m)\u001b[0m\u001b[0;34m:\u001b[0m\u001b[0;34m\u001b[0m\u001b[0;34m\u001b[0m\u001b[0m\n\u001b[1;32m     39\u001b[0m                 \u001b[0mbox\u001b[0m \u001b[0;34m=\u001b[0m \u001b[0mchannel\u001b[0m\u001b[0;34m.\u001b[0m\u001b[0mcrop\u001b[0m\u001b[0;34m(\u001b[0m\u001b[0;34m(\u001b[0m\u001b[0mx\u001b[0m\u001b[0;34m,\u001b[0m \u001b[0my\u001b[0m\u001b[0;34m,\u001b[0m \u001b[0mx\u001b[0m \u001b[0;34m+\u001b[0m \u001b[0msample\u001b[0m\u001b[0;34m,\u001b[0m \u001b[0my\u001b[0m \u001b[0;34m+\u001b[0m \u001b[0msample\u001b[0m\u001b[0;34m)\u001b[0m\u001b[0;34m)\u001b[0m\u001b[0;34m\u001b[0m\u001b[0;34m\u001b[0m\u001b[0m\n",
      "\u001b[0;31mNameError\u001b[0m: name 'xrange' is not defined"
     ]
    }
   ],
   "source": [
    "from PIL import Image, ImageDraw, ImageStat\n",
    "#import Image, ImageDraw, ImageStat\n",
    "\n",
    "def gcr(im, percentage):\n",
    "    '''basic \"Gray Component Replacement\" function. Returns a CMYK image with \n",
    "       percentage gray component removed from the CMY channels and put in the\n",
    "       K channel, ie. for percentage=100, (41, 100, 255, 0) >> (0, 59, 214, 41)'''\n",
    "    cmyk_im = im.convert('CMYK')\n",
    "    if not percentage:\n",
    "        return cmyk_im\n",
    "    cmyk_im = cmyk_im.split()\n",
    "    cmyk = []\n",
    "    for i in xrange(4):\n",
    "        cmyk.append(cmyk_im[i].load())\n",
    "    for x in xrange(im.size[0]):\n",
    "        for y in xrange(im.size[1]):\n",
    "            gray = min(cmyk[0][x,y], cmyk[1][x,y], cmyk[2][x,y]) * percentage / 100\n",
    "            for i in xrange(3):\n",
    "                cmyk[i][x,y] = cmyk[i][x,y] - gray\n",
    "            cmyk[3][x,y] = gray\n",
    "    return Image.merge('CMYK', cmyk_im)\n",
    "\n",
    "def halftone(im, cmyk, sample, scale):\n",
    "    '''Returns list of half-tone images for cmyk image. sample (pixels), \n",
    "       determines the sample box size from the original image. The maximum \n",
    "       output dot diameter is given by sample * scale (which is also the number \n",
    "       of possible dot sizes). So sample=1 will presevere the original image \n",
    "       resolution, but scale must be >1 to allow variation in dot size.'''\n",
    "    cmyk = cmyk.split()\n",
    "    dots = []\n",
    "    angle = 0\n",
    "    for channel in cmyk:\n",
    "        channel = channel.rotate(angle, expand=1)\n",
    "        size = channel.size[0]*scale, channel.size[1]*scale\n",
    "        half_tone = Image.new('L', size)\n",
    "        draw = ImageDraw.Draw(half_tone)\n",
    "        \n",
    "        for x in xrange(0, channel.size[0], sample):\n",
    "            for y in xrange(0, channel.size[1], sample):\n",
    "                box = channel.crop((x, y, x + sample, y + sample))\n",
    "                stat = ImageStat.Stat(box)\n",
    "                diameter = (stat.mean[0] / 255)**0.5\n",
    "                edge = 0.5*(1-diameter)\n",
    "                x_pos, y_pos = (x+edge)*scale, (y+edge)*scale\n",
    "                box_edge = sample*diameter*scale\n",
    "                draw.ellipse((x_pos, y_pos, x_pos + box_edge, y_pos + box_edge), fill=255)\n",
    "                \n",
    "        half_tone = half_tone.rotate(-angle, expand=1)\n",
    "        width_half, height_half = half_tone.size\n",
    "        xx=(width_half-im.size[0]*scale) / 2\n",
    "        yy=(height_half-im.size[1]*scale) / 2\n",
    "        half_tone = half_tone.crop((xx, yy, xx + im.size[0]*scale, yy + im.size[1]*scale))\n",
    "        dots.append(half_tone)\n",
    "        angle += 15\n",
    "    return dots\n",
    "\n",
    "im = Image.open(\"../img/tree.jpg\")\n",
    "\n",
    "cmyk = gcr(im, 0)\n",
    "dots = halftone(im, cmyk, 10, 1)\n",
    "im.show()\n",
    "new = Image.merge('CMYK', dots)\n",
    "new.show()"
   ]
  },
  {
   "cell_type": "code",
   "execution_count": null,
   "metadata": {},
   "outputs": [],
   "source": []
  }
 ],
 "metadata": {
  "kernelspec": {
   "display_name": "Python 3",
   "language": "python",
   "name": "python3"
  },
  "language_info": {
   "codemirror_mode": {
    "name": "ipython",
    "version": 3
   },
   "file_extension": ".py",
   "mimetype": "text/x-python",
   "name": "python",
   "nbconvert_exporter": "python",
   "pygments_lexer": "ipython3",
   "version": "3.7.6"
  }
 },
 "nbformat": 4,
 "nbformat_minor": 4
}
